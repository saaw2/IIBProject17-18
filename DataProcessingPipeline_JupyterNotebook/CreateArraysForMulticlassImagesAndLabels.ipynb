{
 "cells": [
  {
   "cell_type": "code",
   "execution_count": null,
   "metadata": {},
   "outputs": [],
   "source": [
    "import gdal\n",
    "from gdalconst import *\n",
    "import cv2\n",
    "import numpy as np\n",
    "import tifffile as tiff\n",
    "import matplotlib.pyplot as plt\n",
    "from PIL import Image\n",
    "import scipy.misc\n",
    "from keras.utils import to_categorical\n",
    "import os\n",
    "googleDriveURL = 'https://drive.google.com/drive/folders/1Hnb5jOfElWn-_n-lbNPs_TK8w3VOUu9L?usp=sharing'"
   ]
  },
  {
   "cell_type": "code",
   "execution_count": null,
   "metadata": {},
   "outputs": [],
   "source": [
    "img_filename = 'coastalAreaLandmask.tif'\n",
    "if os.path.isfile(img_filename):\n",
    "    # get binary land mask\n",
    "    dataset = gdal.Open(img_filename, GA_ReadOnly)\n",
    "    xSize = dataset.RasterXSize\n",
    "    ySize = dataset.RasterYSize\n",
    "    bandCount = dataset.RasterCount\n",
    "    print ('Dataset size is ',xSize,'x',ySize,'x',bandCount)\n",
    "    band = dataset.GetRasterBand(3)\n",
    "    bandArray = band.ReadAsArray(0, 0, xSize, ySize).astype(np.float32)\n",
    "    landmask = np.nan_to_num(bandArray)\n",
    "else:\n",
    "    print('Please first download the file coastalAreaLandmask.tif from ', googleDriveURL)\n",
    "        \n",
    "\n",
    "img_filename = 'coastalAreaShipmask.tif'\n",
    "if os.path.isfile(img_filename):\n",
    "    # get binary ship mask\n",
    "    dataset = gdal.Open(img_filename, GA_ReadOnly)\n",
    "    xSize = dataset.RasterXSize\n",
    "    ySize = dataset.RasterYSize\n",
    "    bandCount = dataset.RasterCount\n",
    "    print ('Dataset size is ',xSize,'x',ySize,'x',bandCount)\n",
    "    band = dataset.GetRasterBand(3)\n",
    "    bandArray = band.ReadAsArray(0, 0, xSize, ySize).astype(np.float32)\n",
    "    shipmask = bandArray\n",
    "    # get binary sea mask\n",
    "    seamask = 1.0-(landmask+shipmask)\n",
    "else:\n",
    "    print('Please first download the file coastalAreaShipmask.tif from ', googleDriveURL)"
   ]
  },
  {
   "cell_type": "code",
   "execution_count": null,
   "metadata": {},
   "outputs": [],
   "source": [
    "categorical_mask = np.dstack((landmask,seamask))\n",
    "categorical_mask = np.dstack((categorical_mask,shipmask)).astype(np.uint8)"
   ]
  },
  {
   "cell_type": "code",
   "execution_count": null,
   "metadata": {},
   "outputs": [],
   "source": [
    "img_filename = 'coastalAreaSARData.tif'\n",
    "if os.path.isfile(img_filename):\n",
    "    # get train data\n",
    "    dataset = gdal.Open(img_filename, GA_ReadOnly)\n",
    "    xSize = dataset.RasterXSize\n",
    "    ySize = dataset.RasterYSize\n",
    "    bandCount = dataset.RasterCount\n",
    "    print ('Dataset size is ',xSize,'x',ySize,'x',bandCount)\n",
    "    band = dataset.GetRasterBand(1)\n",
    "    bandArray1 = band.ReadAsArray(0, 0, xSize, ySize).astype(np.float32)\n",
    "    band = dataset.GetRasterBand(2)\n",
    "    bandArray2 = band.ReadAsArray(0, 0, xSize, ySize).astype(np.float32)\n",
    "    train_imgs = np.dstack((bandArray1, bandArray2))\n",
    "else:\n",
    "    print('Please first download the file coastalAreaSARData.tif from ', googleDriveURL)"
   ]
  },
  {
   "cell_type": "code",
   "execution_count": null,
   "metadata": {},
   "outputs": [],
   "source": [
    "# save images and labels as np arrays\n",
    "npy_path = '../MulticlassClassificationLandvsSeavsShip/MulticlassClassifier/npydata'\n",
    "if not os.path.lexists(npy_path):\n",
    "    os.mkdir(npy_path)\n",
    "np.save(npy_path + '/imgs.npy', train_imgs)\n",
    "np.save(npy_path + '/labels.npy', categorical_mask)\n",
    "\n",
    "npy_path = '../MulticlassClassificationLandvsSeavsShip/OnevsAllClassifiers/npydata'\n",
    "if not os.path.lexists(npy_path):\n",
    "    os.mkdir(npy_path)\n",
    "np.save(npy_path + '/imgs.npy', train_imgs)\n",
    "np.save(npy_path + '/labels.npy', categorical_mask)"
   ]
  }
 ],
 "metadata": {
  "kernelspec": {
   "display_name": "Python 3",
   "language": "python",
   "name": "python3"
  },
  "language_info": {
   "codemirror_mode": {
    "name": "ipython",
    "version": 3
   },
   "file_extension": ".py",
   "mimetype": "text/x-python",
   "name": "python",
   "nbconvert_exporter": "python",
   "pygments_lexer": "ipython3",
   "version": "3.5.2"
  }
 },
 "nbformat": 4,
 "nbformat_minor": 2
}

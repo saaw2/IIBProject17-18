{
 "cells": [
  {
   "cell_type": "code",
   "execution_count": 2,
   "metadata": {},
   "outputs": [
    {
     "name": "stderr",
     "output_type": "stream",
     "text": [
      "/usr/local/lib/python3.5/dist-packages/h5py/__init__.py:36: FutureWarning: Conversion of the second argument of issubdtype from `float` to `np.floating` is deprecated. In future, it will be treated as `np.float64 == np.dtype(float).type`.\n",
      "  from ._conv import register_converters as _register_converters\n",
      "Using TensorFlow backend.\n"
     ]
    }
   ],
   "source": [
    "import gdal\n",
    "from gdalconst import *\n",
    "import cv2\n",
    "import numpy as np\n",
    "import tifffile as tiff\n",
    "import matplotlib.pyplot as plt\n",
    "from PIL import Image\n",
    "import scipy.misc\n",
    "from keras.utils import to_categorical\n",
    "import os"
   ]
  },
  {
   "cell_type": "code",
   "execution_count": 3,
   "metadata": {},
   "outputs": [
    {
     "ename": "AttributeError",
     "evalue": "'NoneType' object has no attribute 'RasterXSize'",
     "output_type": "error",
     "traceback": [
      "\u001b[0;31m---------------------------------------------------------------------------\u001b[0m",
      "\u001b[0;31mAttributeError\u001b[0m                            Traceback (most recent call last)",
      "\u001b[0;32m<ipython-input-3-225f2c11b510>\u001b[0m in \u001b[0;36m<module>\u001b[0;34m()\u001b[0m\n\u001b[1;32m      2\u001b[0m \u001b[0mimg_filename\u001b[0m \u001b[0;34m=\u001b[0m \u001b[0;34m'coastalArealandmask.tif'\u001b[0m\u001b[0;34m\u001b[0m\u001b[0m\n\u001b[1;32m      3\u001b[0m \u001b[0mdataset\u001b[0m \u001b[0;34m=\u001b[0m \u001b[0mgdal\u001b[0m\u001b[0;34m.\u001b[0m\u001b[0mOpen\u001b[0m\u001b[0;34m(\u001b[0m\u001b[0mimg_filename\u001b[0m\u001b[0;34m,\u001b[0m \u001b[0mGA_ReadOnly\u001b[0m\u001b[0;34m)\u001b[0m\u001b[0;34m\u001b[0m\u001b[0m\n\u001b[0;32m----> 4\u001b[0;31m \u001b[0mxSize\u001b[0m \u001b[0;34m=\u001b[0m \u001b[0mdataset\u001b[0m\u001b[0;34m.\u001b[0m\u001b[0mRasterXSize\u001b[0m\u001b[0;34m\u001b[0m\u001b[0m\n\u001b[0m\u001b[1;32m      5\u001b[0m \u001b[0mySize\u001b[0m \u001b[0;34m=\u001b[0m \u001b[0mdataset\u001b[0m\u001b[0;34m.\u001b[0m\u001b[0mRasterYSize\u001b[0m\u001b[0;34m\u001b[0m\u001b[0m\n\u001b[1;32m      6\u001b[0m \u001b[0mbandCount\u001b[0m \u001b[0;34m=\u001b[0m \u001b[0mdataset\u001b[0m\u001b[0;34m.\u001b[0m\u001b[0mRasterCount\u001b[0m\u001b[0;34m\u001b[0m\u001b[0m\n",
      "\u001b[0;31mAttributeError\u001b[0m: 'NoneType' object has no attribute 'RasterXSize'"
     ]
    }
   ],
   "source": [
    "# get binary land mask\n",
    "img_filename = 'coastalArealandmask.tif'\n",
    "dataset = gdal.Open(img_filename, GA_ReadOnly)\n",
    "xSize = dataset.RasterXSize\n",
    "ySize = dataset.RasterYSize\n",
    "bandCount = dataset.RasterCount\n",
    "print ('Dataset size is ',xSize,'x',ySize,'x',bandCount)\n",
    "band = dataset.GetRasterBand(3)\n",
    "bandArray = band.ReadAsArray(0, 0, xSize, ySize).astype(np.float32)\n",
    "landmask = np.nan_to_num(bandArray)\n",
    "\n",
    "# get binary ship mask\n",
    "img_filename = 'coastalAreaShipmask.tif'\n",
    "dataset = gdal.Open(img_filename, GA_ReadOnly)\n",
    "xSize = dataset.RasterXSize\n",
    "ySize = dataset.RasterYSize\n",
    "bandCount = dataset.RasterCount\n",
    "print ('Dataset size is ',xSize,'x',ySize,'x',bandCount)\n",
    "band = dataset.GetRasterBand(3)\n",
    "bandArray = band.ReadAsArray(0, 0, xSize, ySize).astype(np.float32)\n",
    "shipmask = bandArray\n",
    "\n",
    "# get binary sea mask\n",
    "seamask = 1.0-(landmask+shipmask)"
   ]
  },
  {
   "cell_type": "code",
   "execution_count": 3,
   "metadata": {},
   "outputs": [],
   "source": [
    "categorical_mask = np.dstack((landmask,seamask))\n",
    "categorical_mask = np.dstack((categorical_mask,shipmask)).astype(np.uint8)"
   ]
  },
  {
   "cell_type": "code",
   "execution_count": 4,
   "metadata": {},
   "outputs": [
    {
     "name": "stdout",
     "output_type": "stream",
     "text": [
      "Dataset size is  3072 x 3072 x 2\n"
     ]
    }
   ],
   "source": [
    "# get train data\n",
    "img_filename = 'coastalAreaSARData.tif'\n",
    "dataset = gdal.Open(img_filename, GA_ReadOnly)\n",
    "xSize = dataset.RasterXSize\n",
    "ySize = dataset.RasterYSize\n",
    "bandCount = dataset.RasterCount\n",
    "print ('Dataset size is ',xSize,'x',ySize,'x',bandCount)\n",
    "band = dataset.GetRasterBand(1)\n",
    "bandArray1 = band.ReadAsArray(0, 0, xSize, ySize).astype(np.float32)\n",
    "band = dataset.GetRasterBand(2)\n",
    "bandArray2 = band.ReadAsArray(0, 0, xSize, ySize).astype(np.float32)\n",
    "train_imgs = np.dstack((bandArray1, bandArray2))"
   ]
  },
  {
   "cell_type": "code",
   "execution_count": 1,
   "metadata": {},
   "outputs": [
    {
     "ename": "NameError",
     "evalue": "name 'os' is not defined",
     "output_type": "error",
     "traceback": [
      "\u001b[0;31m---------------------------------------------------------------------------\u001b[0m",
      "\u001b[0;31mNameError\u001b[0m                                 Traceback (most recent call last)",
      "\u001b[0;32m<ipython-input-1-752391357455>\u001b[0m in \u001b[0;36m<module>\u001b[0;34m()\u001b[0m\n\u001b[1;32m      1\u001b[0m \u001b[0;31m# save images and labels as np arrays\u001b[0m\u001b[0;34m\u001b[0m\u001b[0;34m\u001b[0m\u001b[0m\n\u001b[1;32m      2\u001b[0m \u001b[0mnpy_path\u001b[0m \u001b[0;34m=\u001b[0m \u001b[0;34m'../MulticlassClassificationLandvsSeavsShip/MulticlassClassifier/npydata'\u001b[0m\u001b[0;34m\u001b[0m\u001b[0m\n\u001b[0;32m----> 3\u001b[0;31m \u001b[0;32mif\u001b[0m \u001b[0;32mnot\u001b[0m \u001b[0mos\u001b[0m\u001b[0;34m.\u001b[0m\u001b[0mpath\u001b[0m\u001b[0;34m.\u001b[0m\u001b[0mlexists\u001b[0m\u001b[0;34m(\u001b[0m\u001b[0mnpy_path\u001b[0m\u001b[0;34m)\u001b[0m\u001b[0;34m:\u001b[0m\u001b[0;34m\u001b[0m\u001b[0m\n\u001b[0m\u001b[1;32m      4\u001b[0m     \u001b[0mos\u001b[0m\u001b[0;34m.\u001b[0m\u001b[0mmkdir\u001b[0m\u001b[0;34m(\u001b[0m\u001b[0mnpy_path\u001b[0m\u001b[0;34m)\u001b[0m\u001b[0;34m\u001b[0m\u001b[0m\n\u001b[1;32m      5\u001b[0m \u001b[0mnp\u001b[0m\u001b[0;34m.\u001b[0m\u001b[0msave\u001b[0m\u001b[0;34m(\u001b[0m\u001b[0mnpy_path\u001b[0m \u001b[0;34m+\u001b[0m \u001b[0;34m'/imgs.npy'\u001b[0m\u001b[0;34m,\u001b[0m \u001b[0mtrain_imgs\u001b[0m\u001b[0;34m)\u001b[0m\u001b[0;34m\u001b[0m\u001b[0m\n",
      "\u001b[0;31mNameError\u001b[0m: name 'os' is not defined"
     ]
    }
   ],
   "source": [
    "# save images and labels as np arrays\n",
    "npy_path = '../MulticlassClassificationLandvsSeavsShip/MulticlassClassifier/npydata'\n",
    "if not os.path.lexists(npy_path):\n",
    "    os.mkdir(npy_path)\n",
    "np.save(npy_path + '/imgs.npy', train_imgs)\n",
    "np.save(npy_path + '/labels.npy', categorical_mask)"
   ]
  }
 ],
 "metadata": {
  "kernelspec": {
   "display_name": "Python 3",
   "language": "python",
   "name": "python3"
  },
  "language_info": {
   "codemirror_mode": {
    "name": "ipython",
    "version": 3
   },
   "file_extension": ".py",
   "mimetype": "text/x-python",
   "name": "python",
   "nbconvert_exporter": "python",
   "pygments_lexer": "ipython3",
   "version": "3.5.2"
  }
 },
 "nbformat": 4,
 "nbformat_minor": 2
}
